{
 "cells": [
  {
   "cell_type": "markdown",
   "metadata": {},
   "source": [
    "# ag2gcal - Texas A&M Planting Calendar to gCal\n",
    "\n",
    "Convert the HTML calendars from the [Aggie Horticulture (R)](https://aggie-horticulture.tamu.edu/) site at `calendar_source_urls` to Google Calendar event entries at `calendar_destination_ids`.\n",
    "\n",
    "Disclaimers:\n",
    "\n",
    "- I am not an Aggie.\n",
    "- Aggie Horticulture (R) is not my registered trademark.\n",
    "- Thank you to the Aggie Horticulture team for providing these super helpful calendars. All credit to them for crafting these.\n",
    "\n",
    "Example:\n",
    "\n",
    "![](img/ag2gcal.png)"
   ]
  },
  {
   "cell_type": "code",
   "execution_count": 25,
   "metadata": {},
   "outputs": [],
   "source": [
    "import datetime\n",
    "from datetime import date\n",
    "from datetime import timedelta\n",
    "import os\n",
    "import base64\n",
    "import time\n",
    "\n",
    "import pandas as pd\n",
    "import dateparser\n",
    "import gcsa\n",
    "import gcsa.recurrence\n",
    "\n",
    "from gcsa.event import Event\n",
    "from gcsa.google_calendar import GoogleCalendar"
   ]
  },
  {
   "cell_type": "markdown",
   "metadata": {},
   "source": [
    "### Various variables\n",
    "\n",
    "- `region_columns` - list of all regions contained in the tables\n",
    "- `all_columns` - includes the leftmost index for the veggie\n",
    "- `gcloud_creds_path` - OAuth credentials with permissions to access the person's calendars\n",
    "- `calendar_source_urls` - source sites for the planting schedules\n",
    "- `calendar_destination_ids` - map of region to gCal calendar ID where we'll eventually write the calendar events"
   ]
  },
  {
   "cell_type": "code",
   "execution_count": 15,
   "metadata": {},
   "outputs": [],
   "source": [
    "region_columns = ['Region I', 'Region II', 'Region III', 'Region IV', 'Region V']\n",
    "all_columns = ['Vegetable'] + region_columns\n",
    "start_of_this_year = date(date.today().year, 1, 1)\n",
    "start_of_next_year = date(date.today().year + 1, 1, 1)"
   ]
  },
  {
   "cell_type": "markdown",
   "metadata": {},
   "source": [
    "### Google Cloud Credentials\n",
    "\n",
    "1. Open `Google Cloud Console -> IAM & Admin -> Service Accounts`\n",
    "2. Add a new service account\n",
    "3. Create a new key and download it in the `JSON` format\n",
    "4. Store in a secure place on your machine\n",
    "5. Set an environment variable called `GOOGLE_CLOUD_AG2GCAL_CREDS_PATH` with the full path to your credentials file"
   ]
  },
  {
   "cell_type": "markdown",
   "metadata": {},
   "source": [
    "### Google Cloud Credentials\n",
    "\n",
    "1. Open `Google Cloud Console -> IAM & Admin -> Service Accounts`\n",
    "2. Add a new service account\n",
    "3. Create a new key and download it in the `JSON` format\n",
    "4. Store in a secure place on your machine\n",
    "5. Set an environment variable called `GOOGLE_CLOUD_AG2GCAL_CREDS_PATH` with the full path to your credentials file"
   ]
  },
  {
   "cell_type": "code",
   "execution_count": 4,
   "metadata": {},
   "outputs": [],
   "source": [
    "gcloud_creds_path = os.environ['GOOGLE_CLOUD_AG2GCAL_CREDS_PATH']"
   ]
  },
  {
   "cell_type": "markdown",
   "metadata": {},
   "source": [
    "### Source Calendars\n",
    "\n",
    "The source calendars from the Aggie Horticulture site."
   ]
  },
  {
   "cell_type": "code",
   "execution_count": 5,
   "metadata": {},
   "outputs": [],
   "source": [
    "calendar_source_urls = {\n",
    "    'Spring': 'https://aggie-horticulture.tamu.edu/archives/parsons/earthkind/ekgarden14.html',\n",
    "    'Fall': 'https://aggie-horticulture.tamu.edu/archives/parsons/fallgarden/falldirect.html'\n",
    "}"
   ]
  },
  {
   "cell_type": "markdown",
   "metadata": {},
   "source": [
    "### Destination Calendars\n",
    "\n",
    "A dictionary of (Region, Google Calendar ID) in which to dump the calendar events we scrape."
   ]
  },
  {
   "cell_type": "code",
   "execution_count": 6,
   "metadata": {},
   "outputs": [],
   "source": [
    "calendar_destination_ids = {\n",
    "    'Region III': 'c_4kikah5kfau07c7v9t5fieent0@group.calendar.google.com'\n",
    "}"
   ]
  },
  {
   "cell_type": "markdown",
   "metadata": {},
   "source": [
    "### Parse date ranges from tables\n",
    "\n",
    "The dates in the tables are somewhat inconsistent. Play around with them a bit to get them into a useable, two entry array of `[start_date, end_date]`."
   ]
  },
  {
   "cell_type": "code",
   "execution_count": 7,
   "metadata": {},
   "outputs": [],
   "source": [
    "def try_parse_date_range(val, year=datetime.datetime.now().year, default_window_in_days=14, date_format='%b %d %Y'):\n",
    "    stringified_val = str(val)\n",
    "    \n",
    "    start_date = None\n",
    "    end_date = None\n",
    "    \n",
    "    if '-' in stringified_val:\n",
    "        raw_date_range = val.split('-')\n",
    "        \n",
    "        if len(raw_date_range) == 2:\n",
    "            raw_date_range[:] = [f'{raw_date} {year}' for raw_date in raw_date_range]\n",
    "            \n",
    "            start_date = raw_date_range[0]\n",
    "            end_date = raw_date_range[1]\n",
    "    elif stringified_val.startswith('After'):\n",
    "        start_date = f'{stringified_val.replace(\"After\", \"\")} {year}'\n",
    "    else:\n",
    "        start_date = f'{stringified_val} {year}'\n",
    "        \n",
    "    if start_date != \"nat\" and isinstance(start_date, str):\n",
    "        start_date = dateparser.parse(start_date)\n",
    "        \n",
    "        if end_date != None:\n",
    "            end_date = dateparser.parse(end_date)\n",
    "        \n",
    "        if start_date != None and end_date == None:\n",
    "            end_date = start_date + timedelta(days=default_window_in_days)\n",
    "    \n",
    "    return [start_date, end_date]\n",
    "    "
   ]
  },
  {
   "cell_type": "markdown",
   "metadata": {},
   "source": [
    "### Parse the HTML tables and coerce them in to DataFrames"
   ]
  },
  {
   "cell_type": "code",
   "execution_count": 8,
   "metadata": {},
   "outputs": [],
   "source": [
    "def parse_url(season, url):\n",
    "    print(url)\n",
    "    \n",
    "    raw_tables = pd.read_html(url)\n",
    "    \n",
    "    calendar_table = raw_tables[1]\n",
    "    \n",
    "    if calendar_table.iloc[0][0] == 'Vegetables':\n",
    "        calendar_table.drop([0], inplace=True)\n",
    "\n",
    "    calendar_table.columns = all_columns\n",
    "    calendar_table['season'] = season\n",
    "        \n",
    "    return calendar_table"
   ]
  },
  {
   "cell_type": "markdown",
   "metadata": {},
   "source": [
    "### Do it"
   ]
  },
  {
   "cell_type": "code",
   "execution_count": 9,
   "metadata": {},
   "outputs": [
    {
     "name": "stdout",
     "output_type": "stream",
     "text": [
      "https://aggie-horticulture.tamu.edu/archives/parsons/earthkind/ekgarden14.html\n",
      "https://aggie-horticulture.tamu.edu/archives/parsons/fallgarden/falldirect.html\n"
     ]
    }
   ],
   "source": [
    "raw_calendars = pd.DataFrame()\n",
    "\n",
    "for calendar_source in calendar_source_urls.items():\n",
    "    calendar = parse_url(*calendar_source)\n",
    "    raw_calendars = raw_calendars.append(calendar)\n",
    "    \n",
    "raw_calendars.reset_index(inplace=True)"
   ]
  },
  {
   "cell_type": "code",
   "execution_count": 10,
   "metadata": {},
   "outputs": [],
   "source": [
    "for region_column in region_columns:\n",
    "    raw_calendars[region_column] = raw_calendars[region_column].apply(try_parse_date_range)"
   ]
  },
  {
   "cell_type": "code",
   "execution_count": 11,
   "metadata": {},
   "outputs": [],
   "source": [
    "unpivoted_calendar = raw_calendars.melt(id_vars=['Vegetable', 'season'], value_vars=region_columns, var_name='region', value_name='date_range')"
   ]
  },
  {
   "cell_type": "code",
   "execution_count": 12,
   "metadata": {},
   "outputs": [],
   "source": [
    "unpivoted_calendar['start_date'] = unpivoted_calendar.apply(lambda row: row['date_range'][0], axis=1)\n",
    "unpivoted_calendar['end_date'] = unpivoted_calendar.apply(lambda row: row['date_range'][1], axis=1)\n",
    "unpivoted_calendar.drop(['date_range'], axis=1, inplace=True)"
   ]
  },
  {
   "cell_type": "markdown",
   "metadata": {},
   "source": [
    "### Establish gcal clients\n",
    "\n",
    "This uses a desktop OAuth flow, so each calendar will kick out a URL to authorize. You'll need to replace the `&amp;` in the URL with actual ampersands.\n",
    "\n",
    "If you run this a second time after your token has expired, you'll need to delete the `token.pickle` file that GCSA creates and try to re-auth. Otherwise, you get a funky error about scopes.\n",
    "\n",
    "TODO: figure out how to output and not urlencode within a given cell."
   ]
  },
  {
   "cell_type": "code",
   "execution_count": null,
   "metadata": {},
   "outputs": [],
   "source": [
    "calendar_clients = {}\n",
    "\n",
    "for region, calendar_id in calendar_destination_ids.items():\n",
    "    calendar_clients[region] = GoogleCalendar(calendar_id, credentials_path=gcloud_creds_path)"
   ]
  },
  {
   "cell_type": "markdown",
   "metadata": {},
   "source": [
    "### HACK - Clear out old events\n",
    "\n",
    "I couldn't find a stable way to predict the calendar event ID nor how to store some metadata in the calendar event that would allow us to deterministically find it later. Instead, we just delete everything to keep the calendar clean, yay!"
   ]
  },
  {
   "cell_type": "code",
   "execution_count": 31,
   "metadata": {},
   "outputs": [
    {
     "name": "stdout",
     "output_type": "stream",
     "text": [
      "clearing out old events for Region III\n",
      "☠️☠️☠️☠️☠️☠️☠️☠️☠️☠️☠️☠️☠️☠️☠️☠️☠️☠️☠️☠️☠️☠️☠️☠️☠️😴\n",
      "☠️☠️☠️☠️☠️☠️☠️☠️☠️☠️☠️☠️☠️☠️☠️☠️☠️☠️☠️☠️☠️☠️☠️☠️☠️😴\n",
      "☠️☠️☠️☠️☠️☠️☠️☠️☠️☠️☠️☠️☠️✅\n"
     ]
    }
   ],
   "source": [
    "all_events = {}\n",
    "\n",
    "rate_limit_counter = 0\n",
    "rate_limit_after = 25\n",
    "\n",
    "for region, client in calendar_clients.items():\n",
    "    print(f'clearing out old events for {region}')\n",
    "    \n",
    "    for event in client[start_of_this_year:start_of_next_year:'updated']:\n",
    "        client.delete_event(event)\n",
    "        print('☠️', end='')\n",
    "        \n",
    "        rate_limit_counter += 1\n",
    "        \n",
    "        if rate_limit_counter >= rate_limit_after:\n",
    "            print('😴')\n",
    "            rate_limit_counter = 0\n",
    "            time.sleep(1)\n",
    "            \n",
    "print('✅')"
   ]
  },
  {
   "cell_type": "markdown",
   "metadata": {},
   "source": [
    "### Write events to calendars\n",
    "\n",
    "Iterate over each of the regions and write the events for that region to the respective calendar defined in `calendar_source_urls`"
   ]
  },
  {
   "cell_type": "code",
   "execution_count": 32,
   "metadata": {},
   "outputs": [
    {
     "name": "stdout",
     "output_type": "stream",
     "text": [
      "Adding events for Region I\n",
      "Adding events for Region II\n",
      "Adding events for Region III\n",
      "✅ Spring/Asparagus\n",
      "✅ Spring/Beans, snap bush\n",
      "✅ Spring/Beans, snap pole\n",
      "✅ Spring/Beans, Lima bush\n",
      "✅ Spring/Beans, Lima pole\n",
      "✅ Spring/Beets\n",
      "✅ Spring/Broccoli\n",
      "✅ Spring/Cabbage\n",
      "✅ Spring/Carrots\n",
      "✅ Spring/Cauliflower (transplant)\n",
      "✅ Spring/Chard, Swiss\n",
      "✅ Spring/Collards Mar 1-May 1Feb 15-Apr 10Feb 1-Mar 25Jan 15-Mar 15Jan 1-Mar 15\n",
      "✅ Spring/Corn, sweet\n",
      "✅ Spring/Cucumber\n",
      "✅ Spring/Eggplant\n",
      "✅ Spring/Kohlrabi\n",
      "✅ Spring/Lettuce\n",
      "✅ Spring/Muskmelon (cantaloupe)\n",
      "✅ Spring/Mustard\n",
      "✅ Spring/Onion (plants)\n",
      "✅ Spring/Parsley\n",
      "✅ Spring/Peas, English\n",
      "✅ Spring/Peas, Southern\n",
      "✅ Spring/Pepper (transplant)\n",
      "✅ Spring/Potato\n",
      "✅ Spring/Potato, sweet (slips)\n",
      "✅ Spring/Pumpkin\n",
      "✅ Spring/Radish\n",
      "✅ Spring/Spinach\n",
      "✅ Spring/Squash, summer\n",
      "✅ Spring/Squash, winter\n",
      "✅ Spring/Tomato (transplant)\n",
      "✅ Spring/Turnip\n",
      "✅ Spring/Watermelon\n",
      "✅ Fall/Beans, snap bush\n",
      "✅ Fall/Beans, Lima bush\n",
      "✅ Fall/Beets\n",
      "✅ Fall/Broccoli\n",
      "✅ Fall/Brussels sprouts\n",
      "✅ Fall/Cabbage\n",
      "✅ Fall/Carrots\n",
      "✅ Fall/Cauliflower\n",
      "✅ Fall/Chard, Swiss\n",
      "✅ Fall/Collards\n",
      "✅ Fall/Corn, sweet\n",
      "✅ Fall/Cucumber\n",
      "✅ Fall/Eggplant\n",
      "✅ Fall/Garlic (cloves)\n",
      "✅ Fall/Kohlrabi\n",
      "✅ Fall/Lettuce, leaf\n",
      "✅ Fall/Mustard\n",
      "✅ Fall/Onion (seed)\n",
      "✅ Fall/Parsley\n",
      "✅ Fall/Peas, southern\n",
      "✅ Fall/Pepper\n",
      "✅ Fall/Potato\n",
      "✅ Fall/Pumpkin\n",
      "✅ Fall/Radish\n",
      "✅ Fall/Spinach\n",
      "✅ Fall/Squash, summer\n",
      "✅ Fall/Squash, winter\n",
      "✅ Fall/Tomato\n",
      "✅ Fall/Turnip\n",
      "Adding events for Region IV\n",
      "Adding events for Region V\n",
      "🎉🎉🎉\n"
     ]
    }
   ],
   "source": [
    "for region in region_columns:\n",
    "    print(f'Adding events for {region}')\n",
    "    \n",
    "    if region in calendar_clients:\n",
    "        calendar_client = calendar_clients[region]\n",
    "    \n",
    "        for index, row in unpivoted_calendar[unpivoted_calendar['region'] == region].iterrows():\n",
    "            if row['start_date'] != None and not pd.isnull(row['start_date']):\n",
    "                humanized_event_id = f'{row[\"season\"]}/{row[\"Vegetable\"]}'\n",
    "\n",
    "                event = Event(\n",
    "                    row['Vegetable'],\n",
    "                    start=row['start_date'],\n",
    "                    end=row['end_date']\n",
    "                )\n",
    "\n",
    "                create_results = calendar_client.add_event(event)\n",
    "                \n",
    "                print(f'✅ {humanized_event_id}')\n",
    "\n",
    "print('🎉🎉🎉')"
   ]
  },
  {
   "cell_type": "code",
   "execution_count": null,
   "metadata": {},
   "outputs": [],
   "source": []
  }
 ],
 "metadata": {
  "kernelspec": {
   "display_name": "Python 3",
   "language": "python",
   "name": "python3"
  },
  "language_info": {
   "codemirror_mode": {
    "name": "ipython",
    "version": 3
   },
   "file_extension": ".py",
   "mimetype": "text/x-python",
   "name": "python",
   "nbconvert_exporter": "python",
   "pygments_lexer": "ipython3",
   "version": "3.8.3"
  }
 },
 "nbformat": 4,
 "nbformat_minor": 4
}
