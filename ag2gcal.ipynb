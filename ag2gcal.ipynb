{
 "cells": [
  {
   "cell_type": "markdown",
   "metadata": {},
   "source": [
    "# ag2gcal - Texas A&M Planting Calendar to gCal\n",
    "\n",
    "Convert the calendars at `calendar_source_urls` to Google Calendar event entries at `calendar_destination_ids`.\n",
    "\n",
    "Example:\n",
    "\n",
    "![](img/ag2gcal.png)"
   ]
  },
  {
   "cell_type": "code",
   "execution_count": 1,
   "metadata": {},
   "outputs": [],
   "source": [
    "import datetime\n",
    "from datetime import timedelta\n",
    "import os\n",
    "import base64\n",
    "\n",
    "import pandas as pd\n",
    "import dateparser\n",
    "import gcsa\n",
    "import gcsa.recurrence\n",
    "\n",
    "from gcsa.event import Event\n",
    "from gcsa.google_calendar import GoogleCalendar"
   ]
  },
  {
   "cell_type": "markdown",
   "metadata": {},
   "source": [
    "### Various variables\n",
    "\n",
    "- `region_columns` - list of all regions contained in the tables\n",
    "- `all_columns` - includes the leftmost index for the veggie\n",
    "- `gcloud_creds_path` - OAuth credentials with permissions to access the person's calendars\n",
    "- `calendar_source_urls` - source sites for the planting schedules\n",
    "- `calendar_destination_ids` - map of region to gCal calendar ID where we'll eventually write the calendar events"
   ]
  },
  {
   "cell_type": "code",
   "execution_count": 2,
   "metadata": {},
   "outputs": [],
   "source": [
    "region_columns = ['Region I', 'Region II', 'Region III', 'Region IV', 'Region V']\n",
    "all_columns = ['Vegetable'] + region_columns"
   ]
  },
  {
   "cell_type": "code",
   "execution_count": 3,
   "metadata": {},
   "outputs": [],
   "source": [
    "gcloud_creds_path = os.environ['GOOGLE_CLOUD_AG2GCAL_CREDS_PATH']"
   ]
  },
  {
   "cell_type": "code",
   "execution_count": 4,
   "metadata": {},
   "outputs": [],
   "source": [
    "calendar_source_urls = {\n",
    "    'Spring': 'https://aggie-horticulture.tamu.edu/archives/parsons/earthkind/ekgarden14.html',\n",
    "    'Fall': 'https://aggie-horticulture.tamu.edu/archives/parsons/fallgarden/falldirect.html'\n",
    "}"
   ]
  },
  {
   "cell_type": "code",
   "execution_count": 5,
   "metadata": {},
   "outputs": [],
   "source": [
    "calendar_destination_ids = {\n",
    "    'Region III': 'c_4kikah5kfau07c7v9t5fieent0@group.calendar.google.com'\n",
    "}"
   ]
  },
  {
   "cell_type": "markdown",
   "metadata": {},
   "source": [
    "### Parse date ranges from tables\n",
    "\n",
    "The dates in the tables are somewhat inconsistent. Play around with them a bit to get them into a useable, two entry array of `[start_date, end_date]`."
   ]
  },
  {
   "cell_type": "code",
   "execution_count": 6,
   "metadata": {},
   "outputs": [],
   "source": [
    "def try_parse_date_range(val, year=datetime.datetime.now().year, default_window_in_days=14, date_format='%b %d %Y'):\n",
    "    stringified_val = str(val)\n",
    "    \n",
    "    start_date = None\n",
    "    end_date = None\n",
    "    \n",
    "    if '-' in stringified_val:\n",
    "        raw_date_range = val.split('-')\n",
    "        \n",
    "        if len(raw_date_range) == 2:\n",
    "            raw_date_range[:] = [f'{raw_date} {year}' for raw_date in raw_date_range]\n",
    "            \n",
    "            start_date = raw_date_range[0]\n",
    "            end_date = raw_date_range[1]\n",
    "    elif stringified_val.startswith('After'):\n",
    "        start_date = f'{stringified_val.replace(\"After\", \"\")} {year}'\n",
    "    else:\n",
    "        start_date = f'{stringified_val} {year}'\n",
    "        \n",
    "    if start_date != \"nat\" and isinstance(start_date, str):\n",
    "        start_date = dateparser.parse(start_date)\n",
    "        \n",
    "        if end_date != None:\n",
    "            end_date = dateparser.parse(end_date)\n",
    "        \n",
    "        if start_date != None and end_date == None:\n",
    "            end_date = start_date + timedelta(days=default_window_in_days)\n",
    "    \n",
    "    return [start_date, end_date]\n",
    "    "
   ]
  },
  {
   "cell_type": "markdown",
   "metadata": {},
   "source": [
    "### Parse the HTML tables and coerce them in to DataFrames"
   ]
  },
  {
   "cell_type": "code",
   "execution_count": 7,
   "metadata": {},
   "outputs": [],
   "source": [
    "def parse_url(season, url):\n",
    "    print(url)\n",
    "    \n",
    "    raw_tables = pd.read_html(url)\n",
    "    \n",
    "    calendar_table = raw_tables[1]\n",
    "    \n",
    "    if calendar_table.iloc[0][0] == 'Vegetables':\n",
    "        calendar_table.drop([0], inplace=True)\n",
    "\n",
    "    calendar_table.columns = all_columns\n",
    "    calendar_table['season'] = season\n",
    "        \n",
    "    return calendar_table"
   ]
  },
  {
   "cell_type": "markdown",
   "metadata": {},
   "source": [
    "### Do it"
   ]
  },
  {
   "cell_type": "code",
   "execution_count": 8,
   "metadata": {},
   "outputs": [
    {
     "name": "stdout",
     "output_type": "stream",
     "text": [
      "https://aggie-horticulture.tamu.edu/archives/parsons/earthkind/ekgarden14.html\n",
      "https://aggie-horticulture.tamu.edu/archives/parsons/fallgarden/falldirect.html\n"
     ]
    }
   ],
   "source": [
    "raw_calendars = pd.DataFrame()\n",
    "\n",
    "for calendar_source in calendar_source_urls.items():\n",
    "    calendar = parse_url(*calendar_source)\n",
    "    raw_calendars = raw_calendars.append(calendar)\n",
    "    \n",
    "raw_calendars.reset_index(inplace=True)"
   ]
  },
  {
   "cell_type": "code",
   "execution_count": 9,
   "metadata": {},
   "outputs": [],
   "source": [
    "for region_column in region_columns:\n",
    "    raw_calendars[region_column] = raw_calendars[region_column].apply(try_parse_date_range)"
   ]
  },
  {
   "cell_type": "code",
   "execution_count": 10,
   "metadata": {},
   "outputs": [],
   "source": [
    "unpivoted_calendar = raw_calendars.melt(id_vars=['Vegetable', 'season'], value_vars=region_columns, var_name='region', value_name='date_range')"
   ]
  },
  {
   "cell_type": "code",
   "execution_count": 11,
   "metadata": {},
   "outputs": [],
   "source": [
    "unpivoted_calendar['start_date'] = unpivoted_calendar.apply(lambda row: row['date_range'][0], axis=1)\n",
    "unpivoted_calendar['end_date'] = unpivoted_calendar.apply(lambda row: row['date_range'][1], axis=1)\n",
    "unpivoted_calendar.drop(['date_range'], axis=1, inplace=True)"
   ]
  },
  {
   "cell_type": "markdown",
   "metadata": {},
   "source": [
    "### Establish gcal clients\n",
    "\n",
    "This uses a desktop OAuth flow, so each calendar will kick out a URL to authorize. You'll need to replace the `&amp;` in the URL with actual ampersands.\n",
    "\n",
    "TODO: figure out how to output and not urlencode within a given cell."
   ]
  },
  {
   "cell_type": "code",
   "execution_count": 19,
   "metadata": {},
   "outputs": [],
   "source": [
    "calendar_clients = {}\n",
    "\n",
    "for region, calendar_id in calendar_destination_ids.items():\n",
    "    calendar_clients[region] = GoogleCalendar(calendar_id, credentials_path=gcloud_creds_path)"
   ]
  },
  {
   "cell_type": "code",
   "execution_count": 22,
   "metadata": {},
   "outputs": [
    {
     "name": "stdout",
     "output_type": "stream",
     "text": [
      "clearing out old events for Region III\n",
      "deleted event 9g3gabenflgdoc5rueljaebuic\n",
      "deleted event nsn5j7jlmt4qnosbn5ll374j2c\n",
      "deleted event 5s6plnd7e71a4b4nkbk60ju8q8\n",
      "deleted event 6vl69m0o3624875lvf4slmm93o\n",
      "deleted event jffhe6b67jim6lg2ptvglsi4f0\n",
      "deleted event mn3q8lq41sor34e3r82mlrkahc\n",
      "deleted event g29fsmmlknlq3q662a6k81c50k\n",
      "deleted event b4tkg6lljeqsmsermlm05hq7js\n",
      "deleted event 2o7oojucm2hu7sl1f5oaumlnr0\n",
      "deleted event kalat97ppm0hae9ke1k1ndl76k\n",
      "deleted event u55nmrjlkl29n7al6jv4dii6ko\n",
      "deleted event bh6a98btom473omesco6gn624s\n",
      "deleted event 355c8fmoufrl38gqr32svlo3tk\n",
      "deleted event 0cpo42dmfl0hfjbf452a8jkkc8\n"
     ]
    }
   ],
   "source": [
    "all_events = {}\n",
    "\n",
    "for region, client in calendar_clients.items():\n",
    "    print(f'clearing out old events for {region}')\n",
    "    \n",
    "    for event in client:\n",
    "        client.delete_event(event)\n",
    "        print(f'deleted event {event.event_id}')"
   ]
  },
  {
   "cell_type": "markdown",
   "metadata": {},
   "source": [
    "### Write events to calendars\n",
    "\n",
    "Iterate over each of the regions and write the events for that region to the respective calendar defined in `calendar_source_urls`"
   ]
  },
  {
   "cell_type": "code",
   "execution_count": 23,
   "metadata": {},
   "outputs": [
    {
     "name": "stdout",
     "output_type": "stream",
     "text": [
      "Adding events for Region I\n",
      "Adding events for Region II\n",
      "Adding events for Region III\n",
      "created Spring/Asparagus -- lm6tsq7q77jonglv46ps9tneog\n",
      "created Spring/Beans, snap bush -- f8ek4v9dikgomdnmrs6hjlb2o0\n",
      "created Spring/Beans, snap pole -- q4o9sfd5gcu95khlksr5nl61ug\n",
      "created Spring/Beans, Lima bush -- f6bsjkh2maj8m36m3fq49ka63k\n",
      "created Spring/Beans, Lima pole -- micc464i9ae9buimhohgj7o8qo\n",
      "created Spring/Beets -- e0ugprl1cp5cdsa5ecshiua9t0\n",
      "created Spring/Broccoli -- 3hacgg9ptlm695v74j2nkcokdk\n",
      "created Spring/Cabbage -- 7d8iatekd8960pfeu0qcdv8s1g\n",
      "created Spring/Carrots -- thg11vvcku3jrc7asa0rck4djo\n",
      "created Spring/Cauliflower (transplant) -- cf491pnnn2hkepnf42ujpc9keg\n",
      "created Spring/Chard, Swiss -- ec7hnh83qa8nk7uf111pvltej8\n",
      "created Spring/Collards Mar 1-May 1Feb 15-Apr 10Feb 1-Mar 25Jan 15-Mar 15Jan 1-Mar 15 -- bn289oeaarvo1u9t6f7pf13758\n",
      "created Spring/Corn, sweet -- vk2d9mv73fdvmis6fgv9va5p6g\n",
      "created Spring/Cucumber -- gjqd219fjet5es34bgmneumltg\n",
      "created Spring/Eggplant -- otr99nl43q5nl9vdftrghj5kf0\n",
      "created Spring/Kohlrabi -- 6nmtbffa0k6bml70vf95k1dfvg\n",
      "created Spring/Lettuce -- kujcsk00e7kql5e49g9ha1vvms\n",
      "created Spring/Muskmelon (cantaloupe) -- je8ddscsakndhl2peklbuj10hg\n",
      "created Spring/Mustard -- 19ji8l6m0mo87ll670bt1igm70\n",
      "created Spring/Onion (plants) -- utft6gfpjpai8m5gnb3rk6krvs\n",
      "created Spring/Parsley -- p7gunq0k4npki20t51rgo0nepc\n",
      "created Spring/Peas, English -- s2sl16tl7dtla7st3le51fr44o\n",
      "created Spring/Peas, Southern -- 3m74i9400rdgpfar99bnvlhv9s\n",
      "created Spring/Pepper (transplant) -- 8c3rdr6q7krif41s1th6v8qm1g\n",
      "created Spring/Potato -- agidspv4fl0dto8vmupeurbh9s\n",
      "created Spring/Potato, sweet (slips) -- 7riurof1l3pgq9vett1se8muls\n",
      "created Spring/Pumpkin -- qtqqvb9jgjf5schghsojt9vf0k\n",
      "created Spring/Radish -- qrvrn8dcq4f2g2lmovp8is81h0\n",
      "created Spring/Spinach -- 2firal5s38p9eoig3ttln7ik6o\n",
      "created Spring/Squash, summer -- fpkjsd463bb6ks3hoscusr8d0g\n",
      "created Spring/Squash, winter -- 2s83092ra4rnp90kd6fmeime64\n",
      "created Spring/Tomato (transplant) -- 8b09uvuj8ss7qv6krcs562j7cc\n",
      "created Spring/Turnip -- h4pag66apnipoe2jtpgeelcu04\n",
      "created Spring/Watermelon -- 1qqoqq0visgqjiteseldvluo74\n",
      "created Fall/Beans, snap bush -- ons5baqh56j41sg317gs9g450o\n",
      "created Fall/Beans, Lima bush -- 7it76ame1f058jgrr226m6a7k8\n",
      "created Fall/Beets -- d40jsd1tmithlb3t6l7u12h2js\n",
      "created Fall/Broccoli -- iddfntc62bdvs5inlqjc0i6hhg\n",
      "created Fall/Brussels sprouts -- qu3f1t6l6vepbt0bb701lcis7s\n",
      "created Fall/Cabbage -- l4012glm45fucqktl8ck4l7ako\n",
      "created Fall/Carrots -- kioh3fjpvmfkc8381ovdqa7l58\n",
      "created Fall/Cauliflower -- 01qhdjeabaemijokb7rdu6tkdc\n",
      "created Fall/Chard, Swiss -- q79lb74hqr09fila3p9ac2a0rc\n",
      "created Fall/Collards -- kt2jhps6n2rl46gr6u3i3a9u24\n",
      "created Fall/Corn, sweet -- h99jsna1t3fq5avlbqnopl7rhg\n",
      "created Fall/Cucumber -- 0n4ce6glrs7a189al2hjsq5e2g\n",
      "created Fall/Eggplant -- vjofjhjkuc398njmic90vudl54\n",
      "created Fall/Garlic (cloves) -- ob5iqsv15n5k9n1n3gv93q0h0o\n",
      "created Fall/Kohlrabi -- 7uqvjf8bnteolbpt16qter07p0\n",
      "created Fall/Lettuce, leaf -- 1t62fd8tp5j64krd0rgsc8ra80\n",
      "created Fall/Mustard -- 7bic6so11b2vfu736ndtipikcg\n",
      "created Fall/Onion (seed) -- 411kjq7vj9l3moue6thkuv2q2o\n",
      "created Fall/Parsley -- 3i8e2t99k0q8ecahj5bofrho2c\n",
      "created Fall/Peas, southern -- js1tvk0qo05l8us9coe3suemf8\n",
      "created Fall/Pepper -- bbfapdllsrni833jj5trmh3plk\n",
      "created Fall/Potato -- rersoobbel5vevkpb88lhij6q0\n",
      "created Fall/Pumpkin -- i9miqsh94rrom6k4m3c2mljvbk\n",
      "created Fall/Radish -- j9gg4kumjdbm963k21cdigg5ng\n",
      "created Fall/Spinach -- bpp5ejju2ie15scficmm9la9sc\n",
      "created Fall/Squash, summer -- qcni2kbf7r2je8gccf0cotga20\n",
      "created Fall/Squash, winter -- 26ds34ngcsv50r8g0b9c4cqgso\n",
      "created Fall/Tomato -- 8i70v671b7556nlalihivuonbk\n",
      "created Fall/Turnip -- p01d5tol8bii8g1m6kfnco3qkc\n",
      "Adding events for Region IV\n",
      "Adding events for Region V\n"
     ]
    }
   ],
   "source": [
    "for region in region_columns:\n",
    "    print(f'Adding events for {region}')\n",
    "    \n",
    "    if region in calendar_clients:\n",
    "        calendar_client = calendar_clients[region]\n",
    "    \n",
    "        for index, row in unpivoted_calendar[unpivoted_calendar['region'] == region].iterrows():\n",
    "            if row['start_date'] != None and not pd.isnull(row['start_date']):\n",
    "                humanized_event_id = f'{row[\"season\"]}/{row[\"Vegetable\"]}'\n",
    "\n",
    "                event = Event(\n",
    "                    row['Vegetable'],\n",
    "                    start=row['start_date'],\n",
    "                    end=row['end_date']\n",
    "                )\n",
    "\n",
    "                create_results = calendar_client.add_event(event)\n",
    "                \n",
    "                print(f'created {humanized_event_id} -- {create_results.event_id}')"
   ]
  }
 ],
 "metadata": {
  "kernelspec": {
   "display_name": "Python 3",
   "language": "python",
   "name": "python3"
  },
  "language_info": {
   "codemirror_mode": {
    "name": "ipython",
    "version": 3
   },
   "file_extension": ".py",
   "mimetype": "text/x-python",
   "name": "python",
   "nbconvert_exporter": "python",
   "pygments_lexer": "ipython3",
   "version": "3.8.3"
  }
 },
 "nbformat": 4,
 "nbformat_minor": 4
}
